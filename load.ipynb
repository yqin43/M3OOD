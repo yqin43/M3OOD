{
 "cells": [
  {
   "cell_type": "code",
   "execution_count": 1,
   "id": "96dfb11d",
   "metadata": {},
   "outputs": [],
   "source": [
    "import numpy as np"
   ]
  },
  {
   "cell_type": "code",
   "execution_count": null,
   "id": "e937c57b",
   "metadata": {},
   "outputs": [
    {
     "name": "stdout",
     "output_type": "stream",
     "text": [
      "EPIC\n",
      "clip:\n",
      "(2484, 1, 3, 32, 224, 224)\n",
      "flow:\n",
      "(2484, 1, 2, 8, 256, 256)\n",
      "\n",
      "HMDB\n",
      "clip:\n",
      "(2074, 1, 1, 3, 32, 224, 224)\n",
      "flow:\n",
      "(2074, 1, 1, 2, 8, 256, 256)\n",
      "\n",
      "UCF\n",
      "clip:\n",
      "(4669, 1, 1, 3, 32, 224, 224)\n",
      "flow:\n",
      "(4669, 1, 1, 2, 8, 256, 256)\n",
      "\n"
     ]
    }
   ],
   "source": [
    "dataset = ['EPIC','HMDB','UCF']\n",
    "dir = './'\n",
    "\n",
    "for i in range(len(dataset)):\n",
    "    print(dataset[i])\n",
    "    print('clip:')\n",
    "    arr = np.load(dir + f'clip_lst_{dataset[i]}_near.npy', mmap_mode='r')\n",
    "    print(arr.shape)\n",
    "    print('flow:')\n",
    "    arr = np.load(dir + f'spectrogram_lst_{dataset[i]}_near.npy', mmap_mode='r')\n",
    "    print(arr.shape)\n",
    "    print()"
   ]
  },
  {
   "cell_type": "code",
   "execution_count": 3,
   "id": "2bc4c484",
   "metadata": {},
   "outputs": [
    {
     "name": "stdout",
     "output_type": "stream",
     "text": [
      "flow:\n",
      "(22549, 1, 2, 8, 256, 256)\n",
      "\n"
     ]
    }
   ],
   "source": [
    "# print('clip:')\n",
    "# arr = np.load(dir + f'clip_lst_{dataset[i]}_near.npy', mmap_mode='r')\n",
    "# print(arr.shape)\n",
    "print('flow:')\n",
    "arr = np.load(dir + 'spectrogram_lst_Kinetics_near1.npy', mmap_mode='r')\n",
    "print(arr.shape)\n",
    "print()"
   ]
  },
  {
   "cell_type": "code",
   "execution_count": null,
   "id": "d1752699",
   "metadata": {},
   "outputs": [],
   "source": [
    "# squeeze(1)\n",
    "# nn.AdaptiveMaxPool3d((1, 1, 1))"
   ]
  }
 ],
 "metadata": {
  "kernelspec": {
   "display_name": "multi",
   "language": "python",
   "name": "python3"
  },
  "language_info": {
   "codemirror_mode": {
    "name": "ipython",
    "version": 3
   },
   "file_extension": ".py",
   "mimetype": "text/x-python",
   "name": "python",
   "nbconvert_exporter": "python",
   "pygments_lexer": "ipython3",
   "version": "3.11.11"
  }
 },
 "nbformat": 4,
 "nbformat_minor": 5
}
